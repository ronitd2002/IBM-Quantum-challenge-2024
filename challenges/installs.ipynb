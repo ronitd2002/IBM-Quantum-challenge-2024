{
 "cells": [
  {
   "cell_type": "code",
   "execution_count": 5,
   "id": "02460e84",
   "metadata": {},
   "outputs": [
    {
     "name": "stdout",
     "output_type": "stream",
     "text": [
      "Defaulting to user installation because normal site-packages is not writeable\n",
      "Collecting git+https://github.com/qiskit-community/Quantum-Challenge-Grader.git\n",
      "  Cloning https://github.com/qiskit-community/Quantum-Challenge-Grader.git to /tmp/pip-req-build-4x892riv\n",
      "  Running command git clone --filter=blob:none --quiet https://github.com/qiskit-community/Quantum-Challenge-Grader.git /tmp/pip-req-build-4x892riv\n",
      "  Resolved https://github.com/qiskit-community/Quantum-Challenge-Grader.git to commit 96253489893ffda0e53a23ad53ce5e6b992e63d2\n",
      "  Preparing metadata (setup.py) ... \u001b[?25ldone\n",
      "\u001b[?25hRequirement already satisfied: circuit-knitting-toolbox in /home/ronit/.local/lib/python3.12/site-packages (from qc-grader==0.18.12) (0.7.2)\n",
      "Requirement already satisfied: graphviz in /home/ronit/.local/lib/python3.12/site-packages (from qc-grader==0.18.12) (0.20.3)\n",
      "Requirement already satisfied: ipycytoscape in /home/ronit/.local/lib/python3.12/site-packages (from qc-grader==0.18.12) (1.3.3)\n",
      "Requirement already satisfied: jsonpickle==3.0.3 in /home/ronit/.local/lib/python3.12/site-packages (from qc-grader==0.18.12) (3.0.3)\n",
      "Requirement already satisfied: networkx==3.2.1 in /home/ronit/.local/lib/python3.12/site-packages (from qc-grader==0.18.12) (3.2.1)\n",
      "Requirement already satisfied: plotly in /home/ronit/.local/lib/python3.12/site-packages (from qc-grader==0.18.12) (5.22.0)\n",
      "Requirement already satisfied: qiskit-aer in /home/ronit/.local/lib/python3.12/site-packages (from qc-grader==0.18.12) (0.14.2)\n",
      "Requirement already satisfied: qiskit-ibm-runtime in /home/ronit/.local/lib/python3.12/site-packages (from qc-grader==0.18.12) (0.23.0)\n",
      "Collecting qiskit-serverless==0.12.0 (from qc-grader==0.18.12)\n",
      "  Using cached qiskit_serverless-0.12.0-py3-none-any.whl.metadata (4.9 kB)\n",
      "Requirement already satisfied: qiskit-transpiler-service in /home/ronit/.local/lib/python3.12/site-packages (from qc-grader==0.18.12) (0.4.3)\n",
      "Requirement already satisfied: qiskit==1.0.2 in /home/ronit/.local/lib/python3.12/site-packages (from qiskit[visualization]==1.0.2->qc-grader==0.18.12) (1.0.2)\n",
      "Requirement already satisfied: typeguard in /home/ronit/.local/lib/python3.12/site-packages (from qc-grader==0.18.12) (4.3.0)\n",
      "Requirement already satisfied: rustworkx>=0.14.0 in /home/ronit/.local/lib/python3.12/site-packages (from qiskit==1.0.2->qiskit[visualization]==1.0.2->qc-grader==0.18.12) (0.14.2)\n",
      "Requirement already satisfied: numpy<2,>=1.17 in /usr/lib/python3/dist-packages (from qiskit==1.0.2->qiskit[visualization]==1.0.2->qc-grader==0.18.12) (1.26.4)\n",
      "Requirement already satisfied: scipy>=1.5 in /usr/lib/python3/dist-packages (from qiskit==1.0.2->qiskit[visualization]==1.0.2->qc-grader==0.18.12) (1.11.4)\n",
      "Requirement already satisfied: sympy>=1.3 in /usr/lib/python3/dist-packages (from qiskit==1.0.2->qiskit[visualization]==1.0.2->qc-grader==0.18.12) (1.12)\n",
      "Requirement already satisfied: dill>=0.3 in /home/ronit/.local/lib/python3.12/site-packages (from qiskit==1.0.2->qiskit[visualization]==1.0.2->qc-grader==0.18.12) (0.3.8)\n",
      "Requirement already satisfied: python-dateutil>=2.8.0 in /usr/lib/python3/dist-packages (from qiskit==1.0.2->qiskit[visualization]==1.0.2->qc-grader==0.18.12) (2.8.2)\n",
      "Requirement already satisfied: stevedore>=3.0.0 in /home/ronit/.local/lib/python3.12/site-packages (from qiskit==1.0.2->qiskit[visualization]==1.0.2->qc-grader==0.18.12) (5.2.0)\n",
      "Requirement already satisfied: typing-extensions in /usr/lib/python3/dist-packages (from qiskit==1.0.2->qiskit[visualization]==1.0.2->qc-grader==0.18.12) (4.10.0)\n",
      "Requirement already satisfied: symengine>=0.11 in /home/ronit/.local/lib/python3.12/site-packages (from qiskit==1.0.2->qiskit[visualization]==1.0.2->qc-grader==0.18.12) (0.11.0)\n",
      "INFO: pip is looking at multiple versions of qiskit-serverless to determine which version is compatible with other requirements. This could take a while.\n",
      "\u001b[31mERROR: Could not find a version that satisfies the requirement ray<3,>=2.9.3 (from qiskit-serverless) (from versions: none)\u001b[0m\u001b[31m\n",
      "\u001b[0m\u001b[31mERROR: No matching distribution found for ray<3,>=2.9.3\u001b[0m\u001b[31m\n",
      "\u001b[0mNote: you may need to restart the kernel to use updated packages.\n"
     ]
    }
   ],
   "source": [
    "%pip install git+https://github.com/qiskit-community/Quantum-Challenge-Grader.git --upgrade"
   ]
  },
  {
   "cell_type": "code",
   "execution_count": 6,
   "id": "a5c80d70",
   "metadata": {},
   "outputs": [
    {
     "data": {
      "text/plain": [
       "'0.18.8'"
      ]
     },
     "execution_count": 6,
     "metadata": {},
     "output_type": "execute_result"
    }
   ],
   "source": [
    "# qc-grader should be 0.18.12 (or higher)\n",
    "import qc_grader\n",
    "\n",
    "qc_grader.__version__"
   ]
  },
  {
   "cell_type": "code",
   "execution_count": null,
   "id": "c68b45a6-f7b5-4bc9-ab63-17cff947ed3e",
   "metadata": {},
   "outputs": [],
   "source": [
    "### Install Qiskit and relevant packages, if needed\n",
    "### IMPORTANT: Make sure you are on 3.10 > python < 3.12\n",
    "%pip install qiskit[visualization]==1.0.2\n",
    "%pip install qiskit-ibm-runtime\n",
    "%pip install qiskit-aer\n",
    "%pip install graphviz\n",
    "%pip install qiskit-serverless -U\n",
    "%pip install qiskit-transpiler-service -U\n",
    "%pip install git+https://github.com/qiskit-community/Quantum-Challenge-Grader.git -U"
   ]
  },
  {
   "cell_type": "code",
   "execution_count": null,
   "id": "2b08e58f-f980-4b38-a4cd-9381b895aff9",
   "metadata": {},
   "outputs": [],
   "source": [
    "import qisit"
   ]
  },
  {
   "cell_type": "code",
   "execution_count": null,
   "id": "caaabfa8-386f-40ac-a56e-d32c275e39fc",
   "metadata": {},
   "outputs": [],
   "source": [
    "### INSTALL QISKIT: Locally on a Mac or Linux ###\n",
    "\n",
    "%pip install 'qiskit[visualization]'==1.0.2"
   ]
  },
  {
   "cell_type": "code",
   "execution_count": null,
   "id": "03d234d6-8329-4770-acc8-cea1627ee74a",
   "metadata": {},
   "outputs": [],
   "source": [
    "### Install the other required packages as well\n",
    "\n",
    "%pip install qiskit_aer\n",
    "%pip install qiskit_ibm_runtime\n",
    "%pip install matplotlib\n",
    "%pip install pylatexenc\n",
    "%pip install qiskit-transpiler-service\n",
    "%pip install git+https://github.com/qiskit-community/Quantum-Challenge-Grader.git"
   ]
  },
  {
   "cell_type": "code",
   "execution_count": null,
   "id": "ef64ef7c-7fa3-4df9-add2-82dcb1432bb6",
   "metadata": {},
   "outputs": [],
   "source": [
    "### CHECK OTHER DEPENDENCIES\n",
    "%pip show pylatexenc matplotlib qc_grader\n",
    "\n",
    "#qc-grader should be 0.18.8 (or higher)"
   ]
  },
  {
   "cell_type": "code",
   "execution_count": null,
   "id": "a4c890b6-c2c9-418e-8256-1de4feeb7565",
   "metadata": {},
   "outputs": [],
   "source": [
    "### Install Qiskit, if needed\n",
    "\n",
    "%pip install qiskit[visualization]==1.0.2\n",
    "%pip install qiskit_aer\n",
    "%pip install qiskit_ibm_runtime\n",
    "%pip install matplotlib\n",
    "%pip install pylatexenc\n",
    "%pip install qiskit-transpiler-service\n",
    "%pip install git+https://github.com/qiskit-community/Quantum-Challenge-Grader.git"
   ]
  },
  {
   "cell_type": "code",
   "execution_count": null,
   "id": "4fa21e0a-2c30-46d8-9489-76716b708c6c",
   "metadata": {},
   "outputs": [],
   "source": [
    "### Install Qiskit and relevant packages, if needed\n",
    "\n",
    "%pip install qiskit[visualization]==1.0.2\n",
    "%pip install qiskit_ibm_runtime\n",
    "%pip install qiskit_aer\n",
    "%pip install qiskit-transpiler-service\n",
    "%pip install graphviz\n",
    "%pip install git+https://github.com/qiskit-community/Quantum-Challenge-Grader.git"
   ]
  },
  {
   "cell_type": "code",
   "execution_count": null,
   "id": "c578b503-4822-43ff-9c54-5d098c75868f",
   "metadata": {},
   "outputs": [],
   "source": [
    "%pip install qiskit-serverless -U\n",
    "%pip install qiskit-transpiler-service -U"
   ]
  },
  {
   "cell_type": "code",
   "execution_count": null,
   "id": "af1c9180-ee6d-4707-897c-9946abf46126",
   "metadata": {},
   "outputs": [],
   "source": [
    "%pip install circuit-knitting-toolbox -U"
   ]
  },
  {
   "cell_type": "code",
   "execution_count": null,
   "id": "80b92a69-7e08-4b12-90b3-a5a39b1870bb",
   "metadata": {},
   "outputs": [],
   "source": [
    "### Install Qiskit and relevant packages, if needed\n",
    "### IMPORTANT: Make sure you are using python 3.10 or 3.11 for compatibility of the required packages\n",
    "%pip install qiskit[visualization]==1.0.2\n",
    "%pip install qiskit-ibm-runtime\n",
    "%pip install qiskit-aer\n",
    "%pip install graphviz\n",
    "%pip install qiskit-transpiler-service\n",
    "%pip install git+https://github.com/qiskit-community/Quantum-Challenge-Grader.git -U"
   ]
  },
  {
   "cell_type": "code",
   "execution_count": null,
   "id": "22eaec37",
   "metadata": {},
   "outputs": [],
   "source": [
    "import qc_grader\n",
    "\n",
    "qc_grader.__version__"
   ]
  },
  {
   "cell_type": "code",
   "execution_count": 2,
   "id": "1bf36da1",
   "metadata": {},
   "outputs": [
    {
     "name": "stdout",
     "output_type": "stream",
     "text": [
      "Defaulting to user installation because normal site-packages is not writeable\n",
      "Collecting git+https://github.com/qiskit-community/Quantum-Challenge-Grader.git\n",
      "  Cloning https://github.com/qiskit-community/Quantum-Challenge-Grader.git to /tmp/pip-req-build-h551p9lh\n",
      "  Running command git clone --filter=blob:none --quiet https://github.com/qiskit-community/Quantum-Challenge-Grader.git /tmp/pip-req-build-h551p9lh\n",
      "  Resolved https://github.com/qiskit-community/Quantum-Challenge-Grader.git to commit 96253489893ffda0e53a23ad53ce5e6b992e63d2\n",
      "  Preparing metadata (setup.py) ... \u001b[?25ldone\n",
      "\u001b[?25hRequirement already satisfied: circuit-knitting-toolbox in /home/ronit/.local/lib/python3.12/site-packages (from qc-grader==0.18.12) (0.7.2)\n",
      "Requirement already satisfied: graphviz in /home/ronit/.local/lib/python3.12/site-packages (from qc-grader==0.18.12) (0.20.3)\n",
      "Requirement already satisfied: ipycytoscape in /home/ronit/.local/lib/python3.12/site-packages (from qc-grader==0.18.12) (1.3.3)\n",
      "Requirement already satisfied: jsonpickle==3.0.3 in /home/ronit/.local/lib/python3.12/site-packages (from qc-grader==0.18.12) (3.0.3)\n",
      "Requirement already satisfied: networkx==3.2.1 in /home/ronit/.local/lib/python3.12/site-packages (from qc-grader==0.18.12) (3.2.1)\n",
      "Requirement already satisfied: plotly in /home/ronit/.local/lib/python3.12/site-packages (from qc-grader==0.18.12) (5.22.0)\n",
      "Requirement already satisfied: qiskit-aer in /home/ronit/.local/lib/python3.12/site-packages (from qc-grader==0.18.12) (0.14.2)\n",
      "Requirement already satisfied: qiskit-ibm-runtime in /home/ronit/.local/lib/python3.12/site-packages (from qc-grader==0.18.12) (0.23.0)\n",
      "Collecting qiskit-serverless==0.12.0 (from qc-grader==0.18.12)\n",
      "  Using cached qiskit_serverless-0.12.0-py3-none-any.whl.metadata (4.9 kB)\n",
      "Requirement already satisfied: qiskit-transpiler-service in /home/ronit/.local/lib/python3.12/site-packages (from qc-grader==0.18.12) (0.4.3)\n",
      "Requirement already satisfied: qiskit==1.0.2 in /home/ronit/.local/lib/python3.12/site-packages (from qiskit[visualization]==1.0.2->qc-grader==0.18.12) (1.0.2)\n",
      "Requirement already satisfied: typeguard in /home/ronit/.local/lib/python3.12/site-packages (from qc-grader==0.18.12) (4.3.0)\n",
      "Requirement already satisfied: rustworkx>=0.14.0 in /home/ronit/.local/lib/python3.12/site-packages (from qiskit==1.0.2->qiskit[visualization]==1.0.2->qc-grader==0.18.12) (0.14.2)\n",
      "Requirement already satisfied: numpy<2,>=1.17 in /usr/lib/python3/dist-packages (from qiskit==1.0.2->qiskit[visualization]==1.0.2->qc-grader==0.18.12) (1.26.4)\n",
      "Requirement already satisfied: scipy>=1.5 in /usr/lib/python3/dist-packages (from qiskit==1.0.2->qiskit[visualization]==1.0.2->qc-grader==0.18.12) (1.11.4)\n",
      "Requirement already satisfied: sympy>=1.3 in /usr/lib/python3/dist-packages (from qiskit==1.0.2->qiskit[visualization]==1.0.2->qc-grader==0.18.12) (1.12)\n",
      "Requirement already satisfied: dill>=0.3 in /home/ronit/.local/lib/python3.12/site-packages (from qiskit==1.0.2->qiskit[visualization]==1.0.2->qc-grader==0.18.12) (0.3.8)\n",
      "Requirement already satisfied: python-dateutil>=2.8.0 in /usr/lib/python3/dist-packages (from qiskit==1.0.2->qiskit[visualization]==1.0.2->qc-grader==0.18.12) (2.8.2)\n",
      "Requirement already satisfied: stevedore>=3.0.0 in /home/ronit/.local/lib/python3.12/site-packages (from qiskit==1.0.2->qiskit[visualization]==1.0.2->qc-grader==0.18.12) (5.2.0)\n",
      "Requirement already satisfied: typing-extensions in /usr/lib/python3/dist-packages (from qiskit==1.0.2->qiskit[visualization]==1.0.2->qc-grader==0.18.12) (4.10.0)\n",
      "Requirement already satisfied: symengine>=0.11 in /home/ronit/.local/lib/python3.12/site-packages (from qiskit==1.0.2->qiskit[visualization]==1.0.2->qc-grader==0.18.12) (0.11.0)\n",
      "INFO: pip is looking at multiple versions of qiskit-serverless to determine which version is compatible with other requirements. This could take a while.\n",
      "\u001b[31mERROR: Could not find a version that satisfies the requirement ray<3,>=2.9.3 (from qiskit-serverless) (from versions: none)\u001b[0m\u001b[31m\n",
      "\u001b[0m\u001b[31mERROR: No matching distribution found for ray<3,>=2.9.3\u001b[0m\u001b[31m\n",
      "\u001b[0mNote: you may need to restart the kernel to use updated packages.\n"
     ]
    }
   ],
   "source": [
    "%pip install git+https://github.com/qiskit-community/Quantum-Challenge-Grader.git -U"
   ]
  },
  {
   "cell_type": "code",
   "execution_count": 1,
   "id": "3940b8f5",
   "metadata": {},
   "outputs": [
    {
     "data": {
      "text/plain": [
       "'0.18.8'"
      ]
     },
     "execution_count": 1,
     "metadata": {},
     "output_type": "execute_result"
    }
   ],
   "source": [
    "import qc_grader\n",
    "\n",
    "qc_grader.__version__"
   ]
  },
  {
   "cell_type": "code",
   "execution_count": 3,
   "id": "9e4a79b3",
   "metadata": {},
   "outputs": [
    {
     "name": "stdout",
     "output_type": "stream",
     "text": [
      "Defaulting to user installation because normal site-packages is not writeable\n",
      "\u001b[31mERROR: Could not open requirements file: [Errno 2] No such file or directory: 'git+https://github.com/qiskit-community/Quantum-Challenge-Grader.git'\u001b[0m\u001b[31m\n",
      "\u001b[0mNote: you may need to restart the kernel to use updated packages.\n"
     ]
    }
   ],
   "source": [
    "%pip install -r git+https://github.com/qiskit-community/Quantum-Challenge-Grader.git -U"
   ]
  },
  {
   "cell_type": "code",
   "execution_count": 4,
   "id": "f56839ca",
   "metadata": {},
   "outputs": [
    {
     "name": "stdout",
     "output_type": "stream",
     "text": [
      "Defaulting to user installation because normal site-packages is not writeable\n",
      "Collecting git+https://github.com/qiskit-community/Quantum-Challenge-Grader.git\n",
      "  Cloning https://github.com/qiskit-community/Quantum-Challenge-Grader.git to /tmp/pip-req-build-0p80qjvb\n",
      "  Running command git clone --filter=blob:none --quiet https://github.com/qiskit-community/Quantum-Challenge-Grader.git /tmp/pip-req-build-0p80qjvb\n",
      "  Resolved https://github.com/qiskit-community/Quantum-Challenge-Grader.git to commit 96253489893ffda0e53a23ad53ce5e6b992e63d2\n",
      "  Preparing metadata (setup.py) ... \u001b[?25ldone\n",
      "\u001b[?25hRequirement already satisfied: circuit-knitting-toolbox in /home/ronit/.local/lib/python3.12/site-packages (from qc-grader==0.18.12) (0.7.2)\n",
      "Requirement already satisfied: graphviz in /home/ronit/.local/lib/python3.12/site-packages (from qc-grader==0.18.12) (0.20.3)\n",
      "Requirement already satisfied: ipycytoscape in /home/ronit/.local/lib/python3.12/site-packages (from qc-grader==0.18.12) (1.3.3)\n",
      "Requirement already satisfied: jsonpickle==3.0.3 in /home/ronit/.local/lib/python3.12/site-packages (from qc-grader==0.18.12) (3.0.3)\n",
      "Requirement already satisfied: networkx==3.2.1 in /home/ronit/.local/lib/python3.12/site-packages (from qc-grader==0.18.12) (3.2.1)\n",
      "Requirement already satisfied: plotly in /home/ronit/.local/lib/python3.12/site-packages (from qc-grader==0.18.12) (5.22.0)\n",
      "Requirement already satisfied: qiskit-aer in /home/ronit/.local/lib/python3.12/site-packages (from qc-grader==0.18.12) (0.14.2)\n",
      "Requirement already satisfied: qiskit-ibm-runtime in /home/ronit/.local/lib/python3.12/site-packages (from qc-grader==0.18.12) (0.23.0)\n",
      "Collecting qiskit-serverless==0.12.0 (from qc-grader==0.18.12)\n",
      "  Using cached qiskit_serverless-0.12.0-py3-none-any.whl.metadata (4.9 kB)\n",
      "Requirement already satisfied: qiskit-transpiler-service in /home/ronit/.local/lib/python3.12/site-packages (from qc-grader==0.18.12) (0.4.3)\n",
      "Requirement already satisfied: qiskit==1.0.2 in /home/ronit/.local/lib/python3.12/site-packages (from qiskit[visualization]==1.0.2->qc-grader==0.18.12) (1.0.2)\n",
      "Requirement already satisfied: typeguard in /home/ronit/.local/lib/python3.12/site-packages (from qc-grader==0.18.12) (4.3.0)\n",
      "Requirement already satisfied: rustworkx>=0.14.0 in /home/ronit/.local/lib/python3.12/site-packages (from qiskit==1.0.2->qiskit[visualization]==1.0.2->qc-grader==0.18.12) (0.14.2)\n",
      "Requirement already satisfied: numpy<2,>=1.17 in /usr/lib/python3/dist-packages (from qiskit==1.0.2->qiskit[visualization]==1.0.2->qc-grader==0.18.12) (1.26.4)\n",
      "Requirement already satisfied: scipy>=1.5 in /usr/lib/python3/dist-packages (from qiskit==1.0.2->qiskit[visualization]==1.0.2->qc-grader==0.18.12) (1.11.4)\n",
      "Requirement already satisfied: sympy>=1.3 in /usr/lib/python3/dist-packages (from qiskit==1.0.2->qiskit[visualization]==1.0.2->qc-grader==0.18.12) (1.12)\n",
      "Requirement already satisfied: dill>=0.3 in /home/ronit/.local/lib/python3.12/site-packages (from qiskit==1.0.2->qiskit[visualization]==1.0.2->qc-grader==0.18.12) (0.3.8)\n",
      "Requirement already satisfied: python-dateutil>=2.8.0 in /usr/lib/python3/dist-packages (from qiskit==1.0.2->qiskit[visualization]==1.0.2->qc-grader==0.18.12) (2.8.2)\n",
      "Requirement already satisfied: stevedore>=3.0.0 in /home/ronit/.local/lib/python3.12/site-packages (from qiskit==1.0.2->qiskit[visualization]==1.0.2->qc-grader==0.18.12) (5.2.0)\n",
      "Requirement already satisfied: typing-extensions in /usr/lib/python3/dist-packages (from qiskit==1.0.2->qiskit[visualization]==1.0.2->qc-grader==0.18.12) (4.10.0)\n",
      "Requirement already satisfied: symengine>=0.11 in /home/ronit/.local/lib/python3.12/site-packages (from qiskit==1.0.2->qiskit[visualization]==1.0.2->qc-grader==0.18.12) (0.11.0)\n",
      "INFO: pip is looking at multiple versions of qiskit-serverless to determine which version is compatible with other requirements. This could take a while.\n",
      "\u001b[31mERROR: Could not find a version that satisfies the requirement ray<3,>=2.9.3 (from qiskit-serverless) (from versions: none)\u001b[0m\u001b[31m\n",
      "\u001b[0m\u001b[31mERROR: No matching distribution found for ray<3,>=2.9.3\u001b[0m\u001b[31m\n",
      "\u001b[0mNote: you may need to restart the kernel to use updated packages.\n"
     ]
    }
   ],
   "source": [
    "%pip install git+https://github.com/qiskit-community/Quantum-Challenge-Grader.git -U"
   ]
  },
  {
   "cell_type": "code",
   "execution_count": null,
   "id": "f5a03232",
   "metadata": {},
   "outputs": [],
   "source": []
  }
 ],
 "metadata": {
  "kernelspec": {
   "display_name": "qiskit",
   "language": "python",
   "name": "qiskit"
  },
  "language_info": {
   "codemirror_mode": {
    "name": "ipython",
    "version": 3
   },
   "file_extension": ".py",
   "mimetype": "text/x-python",
   "name": "python",
   "nbconvert_exporter": "python",
   "pygments_lexer": "ipython3",
   "version": "3.12.3"
  },
  "widgets": {
   "application/vnd.jupyter.widget-state+json": {
    "state": {},
    "version_major": 2,
    "version_minor": 0
   }
  }
 },
 "nbformat": 4,
 "nbformat_minor": 5
}
