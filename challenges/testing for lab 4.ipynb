{
 "cells": [
  {
   "cell_type": "code",
   "execution_count": 18,
   "id": "b976f530-e071-447e-9ab3-a11b05a0038c",
   "metadata": {},
   "outputs": [],
   "source": [
    "import numpy as np"
   ]
  },
  {
   "cell_type": "code",
   "execution_count": 19,
   "id": "caed1ac7-ca97-40c5-933e-2ebaaa317fac",
   "metadata": {},
   "outputs": [
    {
     "data": {
      "text/plain": [
       "['00000', '00001', '00010', '00011', '00100']"
      ]
     },
     "execution_count": 19,
     "metadata": {},
     "output_type": "execute_result"
    }
   ],
   "source": [
    "bin_strings = [np.binary_repr(num, width=5) for num in np.arange(5)]\n",
    "bin_strings"
   ]
  },
  {
   "cell_type": "code",
   "execution_count": 20,
   "id": "89d747ba-9ff4-481c-b3e9-c81f82bf27fb",
   "metadata": {},
   "outputs": [
    {
     "data": {
      "text/plain": [
       "['00000', '10000', '01000', '11000', '00100']"
      ]
     },
     "execution_count": 20,
     "metadata": {},
     "output_type": "execute_result"
    }
   ],
   "source": [
    "bin_strings_inv = []\n",
    "\n",
    "for i in range(bin_strings):\n",
    "    string_ = \"\".join(reversed(string_))\n",
    "    bin_strings_inv.append(string_)\n",
    "\n",
    "bin_strings_inv"
   ]
  },
  {
   "cell_type": "code",
   "execution_count": 1,
   "id": "d69b3db7-5d4f-4c7f-9350-89f771df608a",
   "metadata": {},
   "outputs": [],
   "source": [
    "# Import all in one cell\n",
    "\n",
    "import numpy as np\n",
    "import pandas as pd\n",
    "import matplotlib.pyplot as plt\n",
    "from scipy.optimize import minimize\n",
    "\n",
    "from qiskit import QuantumCircuit\n",
    "from qiskit.quantum_info import SparsePauliOp\n",
    "from qiskit.circuit.library import RealAmplitudes\n",
    "from qiskit.transpiler.preset_passmanagers import generate_preset_pass_manager\n",
    "from qiskit.transpiler import InstructionProperties\n",
    "from qiskit.visualization import plot_distribution\n",
    "from qiskit.providers.fake_provider import GenericBackendV2\n",
    "from qiskit.primitives import StatevectorEstimator\n",
    "\n",
    "from qiskit_aer import AerSimulator\n",
    "from qiskit_ibm_runtime import (\n",
    "    QiskitRuntimeService, \n",
    "    EstimatorV2 as Estimator,\n",
    "    SamplerV2 as Sampler,\n",
    "    EstimatorOptions\n",
    ")"
   ]
  },
  {
   "cell_type": "code",
   "execution_count": 2,
   "id": "6918f140-9865-4bee-9165-6f25cb4e5b89",
   "metadata": {},
   "outputs": [],
   "source": [
    "def amplitude_embedding(num_qubits, bird_index):\n",
    "    \"\"\"Create amplitude embedding circuit\n",
    "\n",
    "    Parameters: \n",
    "        num_qubits (int): Number of qubits for the ansatz\n",
    "        bird_index (int): Data index of the bird\n",
    "\n",
    "    Returns:\n",
    "        qc (QuantumCircuit): Quantum circuit with amplitude embedding of the bird\n",
    "    \"\"\"\n",
    "    def generate_GHZ(qc):\n",
    "        qc.h(0)\n",
    "        for i, j in zip(range(num_qubits-1), range(1,num_qubits)):\n",
    "            qc.cx(i, j)\n",
    "            \n",
    "    ### Write your code below here ###\n",
    "    bin_string = np.binary_repr(bird_index, width=5)\n",
    "    \n",
    "    def bitstring_to_quantum_circuit(bitstring):    \n",
    "        qc = QuantumCircuit(5)\n",
    "        for i, bit in enumerate(bitstring):\n",
    "            if bit == '1':\n",
    "                qc.x(i)  # Apply X gate to flip the qubit to |1>\n",
    "        return qc\n",
    "    '''\n",
    "    def bitstring_to_quantum_circuit_reverse(bitstring):    \n",
    "        qc = QuantumCircuit(5)\n",
    "        for i in range(5):\n",
    "            qc.x(i)\n",
    "        for i, bit in enumerate(bitstring):\n",
    "            if bit == '1':\n",
    "                qc.x(i)  # Apply X gate to flip the qubit to |1>\n",
    "        return qc\n",
    "    '''\n",
    "    qc = generate_GHZ(bitstring_to_quantum_circuit(bin_string)) #+ bitstring_to_quantum_circuit_reverse(bin_string)\n",
    "    \n",
    "    ### Don't change any code past this line ###\n",
    "    return qc"
   ]
  },
  {
   "cell_type": "code",
   "execution_count": 4,
   "id": "54791986-544b-47bf-8602-a5c6cb86eec2",
   "metadata": {},
   "outputs": [
    {
     "ename": "SyntaxError",
     "evalue": "positional argument follows keyword argument (496627745.py, line 4)",
     "output_type": "error",
     "traceback": [
      "\u001b[0;36m  Cell \u001b[0;32mIn[4], line 4\u001b[0;36m\u001b[0m\n\u001b[0;31m    qc = amplitude_embedding(num_qubits=5, index_bird)\u001b[0m\n\u001b[0m                                                     ^\u001b[0m\n\u001b[0;31mSyntaxError\u001b[0m\u001b[0;31m:\u001b[0m positional argument follows keyword argument\n"
     ]
    }
   ],
   "source": [
    "index_bird = 0 # You can check different birds by changing the index\n",
    "\n",
    "# Build the amplitude embedding \n",
    "qc = amplitude_embedding(num_qubits=5, index_bird)\n",
    "qc.measure_all()\n",
    "\n",
    "# Define the backend and the pass manager\n",
    "aer_sim = AerSimulator()\n",
    "pm = generate_preset_pass_manager(backend=aer_sim, optimization_level=3)\n",
    "isa_circuit = pm.run(qc)\n",
    "\n",
    "# Define the sampler with the number of shots\n",
    "sampler = Sampler(backend=aer_sim)\n",
    "result = sampler.run([isa_circuit]).result()\n",
    "samp_dist = result[0].data.meas.get_counts()\n",
    "plot_distribution(samp_dist, figsize=(15, 5))"
   ]
  },
  {
   "cell_type": "code",
   "execution_count": 6,
   "id": "6a479f27-d178-4902-8697-ad252d0d5e46",
   "metadata": {},
   "outputs": [
    {
     "data": {
      "text/plain": [
       "'00110'"
      ]
     },
     "execution_count": 6,
     "metadata": {},
     "output_type": "execute_result"
    }
   ],
   "source": [
    "bin_string = format(6, '0{0}b'.format(5))\n",
    "bin_string"
   ]
  },
  {
   "cell_type": "code",
   "execution_count": null,
   "id": "a1e90fc4-5d8d-455e-9014-7d0df5d6f87b",
   "metadata": {},
   "outputs": [],
   "source": []
  }
 ],
 "metadata": {
  "kernelspec": {
   "display_name": "Python 3 (ipykernel)",
   "language": "python",
   "name": "python3"
  },
  "language_info": {
   "codemirror_mode": {
    "name": "ipython",
    "version": 3
   },
   "file_extension": ".py",
   "mimetype": "text/x-python",
   "name": "python",
   "nbconvert_exporter": "python",
   "pygments_lexer": "ipython3",
   "version": "3.11.5"
  },
  "widgets": {
   "application/vnd.jupyter.widget-state+json": {
    "state": {},
    "version_major": 2,
    "version_minor": 0
   }
  }
 },
 "nbformat": 4,
 "nbformat_minor": 5
}
